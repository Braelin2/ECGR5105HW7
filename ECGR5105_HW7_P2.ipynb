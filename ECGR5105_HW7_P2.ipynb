{
  "cells": [
    {
      "cell_type": "markdown",
      "metadata": {
        "id": "view-in-github",
        "colab_type": "text"
      },
      "source": [
        "<a href=\"https://colab.research.google.com/github/Braelin2/ECGR5105HW7/blob/main/ECGR5105_HW7_P2.ipynb\" target=\"_parent\"><img src=\"https://colab.research.google.com/assets/colab-badge.svg\" alt=\"Open In Colab\"/></a>"
      ]
    },
    {
      "cell_type": "code",
      "execution_count": null,
      "metadata": {
        "colab": {
          "base_uri": "https://localhost:8080/"
        },
        "id": "GYV75zUqG7A6",
        "outputId": "8726d5e5-8750-460a-978f-928b28da1f94"
      },
      "outputs": [
        {
          "output_type": "stream",
          "name": "stdout",
          "text": [
            "Collecting ipython-autotime\n",
            "  Downloading ipython_autotime-0.3.2-py2.py3-none-any.whl (7.0 kB)\n",
            "Requirement already satisfied: ipython in /usr/local/lib/python3.10/dist-packages (from ipython-autotime) (7.34.0)\n",
            "Requirement already satisfied: setuptools>=18.5 in /usr/local/lib/python3.10/dist-packages (from ipython->ipython-autotime) (67.7.2)\n",
            "Collecting jedi>=0.16 (from ipython->ipython-autotime)\n",
            "  Downloading jedi-0.19.1-py2.py3-none-any.whl (1.6 MB)\n",
            "\u001b[2K     \u001b[90m━━━━━━━━━━━━━━━━━━━━━━━━━━━━━━━━━━━━━━━━\u001b[0m \u001b[32m1.6/1.6 MB\u001b[0m \u001b[31m6.0 MB/s\u001b[0m eta \u001b[36m0:00:00\u001b[0m\n",
            "\u001b[?25hRequirement already satisfied: decorator in /usr/local/lib/python3.10/dist-packages (from ipython->ipython-autotime) (4.4.2)\n",
            "Requirement already satisfied: pickleshare in /usr/local/lib/python3.10/dist-packages (from ipython->ipython-autotime) (0.7.5)\n",
            "Requirement already satisfied: traitlets>=4.2 in /usr/local/lib/python3.10/dist-packages (from ipython->ipython-autotime) (5.7.1)\n",
            "Requirement already satisfied: prompt-toolkit!=3.0.0,!=3.0.1,<3.1.0,>=2.0.0 in /usr/local/lib/python3.10/dist-packages (from ipython->ipython-autotime) (3.0.41)\n",
            "Requirement already satisfied: pygments in /usr/local/lib/python3.10/dist-packages (from ipython->ipython-autotime) (2.16.1)\n",
            "Requirement already satisfied: backcall in /usr/local/lib/python3.10/dist-packages (from ipython->ipython-autotime) (0.2.0)\n",
            "Requirement already satisfied: matplotlib-inline in /usr/local/lib/python3.10/dist-packages (from ipython->ipython-autotime) (0.1.6)\n",
            "Requirement already satisfied: pexpect>4.3 in /usr/local/lib/python3.10/dist-packages (from ipython->ipython-autotime) (4.9.0)\n",
            "Requirement already satisfied: parso<0.9.0,>=0.8.3 in /usr/local/lib/python3.10/dist-packages (from jedi>=0.16->ipython->ipython-autotime) (0.8.3)\n",
            "Requirement already satisfied: ptyprocess>=0.5 in /usr/local/lib/python3.10/dist-packages (from pexpect>4.3->ipython->ipython-autotime) (0.7.0)\n",
            "Requirement already satisfied: wcwidth in /usr/local/lib/python3.10/dist-packages (from prompt-toolkit!=3.0.0,!=3.0.1,<3.1.0,>=2.0.0->ipython->ipython-autotime) (0.2.12)\n",
            "Installing collected packages: jedi, ipython-autotime\n",
            "Successfully installed ipython-autotime-0.3.2 jedi-0.19.1\n",
            "time: 361 µs (started: 2023-12-13 00:01:25 +00:00)\n"
          ]
        }
      ],
      "source": [
        "import numpy as np\n",
        "import pandas as pd\n",
        "import matplotlib.pyplot as plt\n",
        "import seaborn as sns\n",
        "import torch as torch\n",
        "import torch.optim as optim\n",
        "import torch.nn as nn\n",
        "\n",
        "!pip install ipython-autotime\n",
        "%load_ext autotime"
      ]
    },
    {
      "cell_type": "code",
      "execution_count": null,
      "metadata": {
        "colab": {
          "base_uri": "https://localhost:8080/"
        },
        "id": "pNjw_ckwc07d",
        "outputId": "9b0a2794-bd8a-44a6-95be-81a55f72396c"
      },
      "outputs": [
        {
          "output_type": "stream",
          "name": "stdout",
          "text": [
            "Training on device cpu\n",
            "time: 16.3 ms (started: 2023-12-13 00:01:29 +00:00)\n"
          ]
        }
      ],
      "source": [
        "device = (torch.device('cuda') if torch.cuda.is_available()\n",
        "  else torch.device('cpu'))\n",
        "print(f\"Training on device {device}\")"
      ]
    },
    {
      "cell_type": "code",
      "execution_count": null,
      "metadata": {
        "id": "hRaw-CoHHNwY",
        "colab": {
          "base_uri": "https://localhost:8080/"
        },
        "outputId": "c61461a2-cff0-4465-8fe6-93822914296e"
      },
      "outputs": [
        {
          "metadata": {
            "tags": null
          },
          "name": "stdout",
          "output_type": "stream",
          "text": [
            "Downloading https://www.cs.toronto.edu/~kriz/cifar-10-python.tar.gz to ../data-unversioned/p1ch7/cifar-10-python.tar.gz\n"
          ]
        },
        {
          "output_type": "stream",
          "name": "stderr",
          "text": [
            "100%|██████████| 170498071/170498071 [00:04<00:00, 42246664.64it/s]\n"
          ]
        },
        {
          "output_type": "stream",
          "name": "stdout",
          "text": [
            "Extracting ../data-unversioned/p1ch7/cifar-10-python.tar.gz to ../data-unversioned/p1ch7/\n",
            "Files already downloaded and verified\n",
            "time: 24.1 s (started: 2023-12-12 16:36:45 +00:00)\n"
          ]
        }
      ],
      "source": [
        "from torchvision import datasets\n",
        "data_path = '../data-unversioned/p1ch7/'\n",
        "cifar10 = datasets.CIFAR10(data_path, train=True, download=True) # <1>\n",
        "cifar10_val = datasets.CIFAR10(data_path, train=False, download=True) # <2>\n"
      ]
    },
    {
      "cell_type": "code",
      "execution_count": null,
      "metadata": {
        "colab": {
          "base_uri": "https://localhost:8080/",
          "height": 465
        },
        "id": "D8DJrSwbGrF2",
        "outputId": "ec5fcb6b-ed6e-4fc4-cf1b-85564e5c4cc5"
      },
      "outputs": [
        {
          "output_type": "stream",
          "name": "stdout",
          "text": [
            "50000\n"
          ]
        },
        {
          "output_type": "display_data",
          "data": {
            "text/plain": [
              "<Figure size 640x480 with 1 Axes>"
            ],
            "image/png": "[encoded data removed]"
          },
          "metadata": {}
        },
        {
          "output_type": "stream",
          "name": "stdout",
          "text": [
            "time: 701 ms (started: 2023-12-12 16:37:17 +00:00)\n"
          ]
        }
      ],
      "source": [
        "print(len(cifar10))\n",
        "\n",
        "img, label = cifar10[3]\n",
        "\n",
        "plt.imshow(img)\n",
        "plt.show()"
      ]
    },
    {
      "cell_type": "code",
      "execution_count": null,
      "metadata": {
        "colab": {
          "base_uri": "https://localhost:8080/"
        },
        "id": "_Z0nzKLHGJob",
        "outputId": "f68a8f2c-fa21-48e5-fa95-3788854ce4cc"
      },
      "outputs": [
        {
          "output_type": "stream",
          "name": "stdout",
          "text": [
            "time: 2.9 s (started: 2023-12-12 16:37:19 +00:00)\n"
          ]
        }
      ],
      "source": [
        "from torchvision import transforms\n",
        "\n",
        "to_tensor = transforms.ToTensor()\n",
        "img_t = to_tensor(img)\n",
        "img_t.shape\n",
        "\n",
        "cifar10_train_t = datasets.CIFAR10(data_path, train = True, download = False, transform = transforms.ToTensor())\n",
        "cifar10_test_t = datasets.CIFAR10(data_path, train = False, download = False, transform = transforms.ToTensor())\n"
      ]
    },
    {
      "cell_type": "code",
      "execution_count": null,
      "metadata": {
        "colab": {
          "base_uri": "https://localhost:8080/",
          "height": 447
        },
        "id": "693zWNdMHwc1",
        "outputId": "98aee2fe-07a5-4ef9-b536-37c040b5c7be"
      },
      "outputs": [
        {
          "output_type": "display_data",
          "data": {
            "text/plain": [
              "<Figure size 640x480 with 1 Axes>"
            ],
            "image/png": "[encoded data removed]"
          },
          "metadata": {}
        },
        {
          "output_type": "stream",
          "name": "stdout",
          "text": [
            "time: 352 ms (started: 2023-12-12 16:37:24 +00:00)\n"
          ]
        }
      ],
      "source": [
        "img_t, _ = cifar10_train_t[3]\n",
        "\n",
        "plt.imshow(img_t.permute(1,2,0))\n",
        "plt.show()"
      ]
    },
    {
      "cell_type": "code",
      "execution_count": null,
      "metadata": {
        "colab": {
          "base_uri": "https://localhost:8080/"
        },
        "id": "gxg_sg-SIbni",
        "outputId": "ebe20b3e-dd00-4759-9afe-03390d187871"
      },
      "outputs": [
        {
          "output_type": "stream",
          "name": "stdout",
          "text": [
            "time: 12.6 s (started: 2023-12-12 16:37:27 +00:00)\n"
          ]
        }
      ],
      "source": [
        "imgs = torch.stack([img_t for img_t, _ in cifar10_train_t], dim = 3)\n",
        "#imgs.shape"
      ]
    },
    {
      "cell_type": "code",
      "execution_count": null,
      "metadata": {
        "colab": {
          "base_uri": "https://localhost:8080/"
        },
        "id": "U1EUXA0bJLU7",
        "outputId": "87d576f7-33af-47fa-9d11-82d6a812b3d7"
      },
      "outputs": [
        {
          "output_type": "execute_result",
          "data": {
            "text/plain": [
              "tensor([0.4914, 0.4822, 0.4465])"
            ]
          },
          "metadata": {},
          "execution_count": 11
        },
        {
          "output_type": "stream",
          "name": "stdout",
          "text": [
            "time: 94.3 ms (started: 2023-12-12 16:37:42 +00:00)\n"
          ]
        }
      ],
      "source": [
        "imgs.view(3,-1).mean(dim=1)"
      ]
    },
    {
      "cell_type": "code",
      "execution_count": null,
      "metadata": {
        "colab": {
          "base_uri": "https://localhost:8080/"
        },
        "id": "ACn5KPlBJMrE",
        "outputId": "43a3de45-a2bd-4f44-d599-507f8869449a"
      },
      "outputs": [
        {
          "output_type": "execute_result",
          "data": {
            "text/plain": [
              "tensor([0.2470, 0.2435, 0.2616])"
            ]
          },
          "metadata": {},
          "execution_count": 12
        },
        {
          "output_type": "stream",
          "name": "stdout",
          "text": [
            "time: 1.13 s (started: 2023-12-12 16:37:44 +00:00)\n"
          ]
        }
      ],
      "source": [
        "imgs.view(3,-1).std(dim=1)"
      ]
    },
    {
      "cell_type": "code",
      "execution_count": null,
      "metadata": {
        "colab": {
          "base_uri": "https://localhost:8080/"
        },
        "id": "B36P2-OAJPAt",
        "outputId": "e4c4efe8-d3b9-46a2-a32d-916fcf5a2760"
      },
      "outputs": [
        {
          "output_type": "execute_result",
          "data": {
            "text/plain": [
              "Normalize(mean=(0.4914, 0.4822, 0.4465), std=(0.247, 0.2435, 0.2616))"
            ]
          },
          "metadata": {},
          "execution_count": 13
        },
        {
          "output_type": "stream",
          "name": "stdout",
          "text": [
            "time: 4.5 ms (started: 2023-12-12 16:37:46 +00:00)\n"
          ]
        }
      ],
      "source": [
        "transforms.Normalize((0.4914, 0.4822, 0.4465),(0.2470, 0.2435, 0.2616))"
      ]
    },
    {
      "cell_type": "code",
      "execution_count": null,
      "metadata": {
        "colab": {
          "base_uri": "https://localhost:8080/"
        },
        "id": "GlFygYAQJaic",
        "outputId": "00b49f23-9759-4f60-9c7a-4efe0f881f71"
      },
      "outputs": [
        {
          "output_type": "stream",
          "name": "stdout",
          "text": [
            "time: 838 ms (started: 2023-12-12 16:37:51 +00:00)\n"
          ]
        }
      ],
      "source": [
        "transformed_cifar10_train = datasets.CIFAR10(data_path, train = True, download = False,\n",
        "                                            transform = transforms.Compose([transforms.ToTensor(), transforms.Normalize((0.4914, 0.4822, 0.4465),(0.2470, 0.2435, 0.2616))]))\n",
        "\n",
        "transformed_cifar10_test = datasets.CIFAR10(data_path, train = False, download = False,\n",
        "                                            transform = transforms.Compose([transforms.ToTensor(), transforms.Normalize((0.4914, 0.4822, 0.4465),(0.2470, 0.2435, 0.2616))]))"
      ]
    },
    {
      "cell_type": "code",
      "execution_count": null,
      "metadata": {
        "colab": {
          "base_uri": "https://localhost:8080/",
          "height": 465
        },
        "id": "0LjyNtG0KE2-",
        "outputId": "564cda22-b161-4b7f-df92-9a3908326ce9"
      },
      "outputs": [
        {
          "output_type": "stream",
          "name": "stderr",
          "text": [
            "WARNING:matplotlib.image:Clipping input data to the valid range for imshow with RGB data ([0..1] for floats or [0..255] for integers).\n"
          ]
        },
        {
          "output_type": "display_data",
          "data": {
            "text/plain": [
              "<Figure size 640x480 with 1 Axes>"
            ],
            "image/png": "[encoded data removed]"
          },
          "metadata": {}
        },
        {
          "output_type": "stream",
          "name": "stdout",
          "text": [
            "time: 191 ms (started: 2023-12-12 16:37:58 +00:00)\n"
          ]
        }
      ],
      "source": [
        "img_t, _ = transformed_cifar10_train[3]\n",
        "\n",
        "plt.imshow(img_t.permute(1,2,0))\n",
        "plt.show()"
      ]
    },
    {
      "cell_type": "code",
      "execution_count": null,
      "metadata": {
        "colab": {
          "base_uri": "https://localhost:8080/"
        },
        "id": "OIKfq2JCNA89",
        "outputId": "63fef3fc-09cc-46ae-fd2a-82c0c651dbd9"
      },
      "outputs": [
        {
          "output_type": "stream",
          "name": "stdout",
          "text": [
            "time: 787 µs (started: 2023-12-12 16:38:03 +00:00)\n"
          ]
        }
      ],
      "source": [
        "import datetime\n",
        "\n",
        "def training_loop(n_epochs, optimizer, model, loss_fn, train_loader):\n",
        "  for epoch in range(1, n_epochs + 1):\n",
        "    loss_train = 0.0\n",
        "\n",
        "    for imgs, labels in train_loader:\n",
        "      imgs = imgs.to(device = device)\n",
        "      labels = labels.to(device = device)\n",
        "\n",
        "      outputs = model(imgs)\n",
        "\n",
        "      loss = loss_fn(outputs, labels)\n",
        "\n",
        "      optimizer.zero_grad()\n",
        "\n",
        "      loss.backward()\n",
        "\n",
        "      optimizer.step()\n",
        "\n",
        "      loss_train += loss.item()\n",
        "    if epoch == 1 or epoch % 10 == 0:\n",
        "      print('{} Epoch {}, Training Loss {}'.format(datetime.datetime.now(), epoch, loss_train / len(train_loader)))"
      ]
    },
    {
      "cell_type": "code",
      "execution_count": null,
      "metadata": {
        "colab": {
          "base_uri": "https://localhost:8080/"
        },
        "id": "o4xeRkGObA_8",
        "outputId": "ca775e28-458d-4c72-ecd5-3f0e2184ec7d"
      },
      "outputs": [
        {
          "output_type": "stream",
          "name": "stdout",
          "text": [
            "time: 1.35 ms (started: 2023-12-12 16:45:28 +00:00)\n"
          ]
        }
      ],
      "source": [
        "import torch.nn.functional as F\n",
        "\n",
        "class NetRes(nn.Module):\n",
        "  def __init__(self, n_chans1 = 32):\n",
        "    super().__init__()\n",
        "    self.n_chans1 = n_chans1\n",
        "    self.conv1 = nn.Conv2d(3, n_chans1, kernel_size = 3, padding = 1)\n",
        "    self.conv2 = nn.Conv2d(n_chans1, n_chans1 // 2, kernel_size = 3, padding = 1)\n",
        "    self.conv3 = nn.Conv2d(n_chans1 // 2, n_chans1 // 2 , kernel_size = 3, padding = 1)\n",
        "\n",
        "    self.fc1 = nn.Linear(4 * 4 * n_chans1 // 2, 32)\n",
        "    self.fc2 = nn.Linear(32, 10)\n",
        "\n",
        "  def forward(self, x):\n",
        "    out = F.max_pool2d(torch.relu(self.conv1(x)), 2)\n",
        "    out = F.max_pool2d(torch.relu(self.conv2(out)), 2)\n",
        "    out1 = out\n",
        "    out = F.max_pool2d(torch.relu(self.conv3(out)) + out1, 2)\n",
        "    out = out.view(-1,4 * 4 * self.n_chans1 // 2)\n",
        "    out = torch.relu(self.fc1(out))\n",
        "    out = self.fc2(out)\n",
        "    return out\n"
      ]
    },
    {
      "cell_type": "code",
      "execution_count": null,
      "metadata": {
        "colab": {
          "base_uri": "https://localhost:8080/"
        },
        "id": "yhq4Go_FKVHZ",
        "outputId": "c9025cf1-ef65-4047-a9b6-30522048fd4a"
      },
      "outputs": [
        {
          "output_type": "stream",
          "name": "stdout",
          "text": [
            "2023-12-12 16:45:45.120717 Epoch 1, Training Loss 2.105788602243604\n",
            "2023-12-12 16:47:52.926419 Epoch 10, Training Loss 1.1231182755716622\n",
            "2023-12-12 16:50:15.165971 Epoch 20, Training Loss 0.8852256809354133\n",
            "2023-12-12 16:52:36.343569 Epoch 30, Training Loss 0.7839599685062228\n",
            "2023-12-12 16:54:58.374186 Epoch 40, Training Loss 0.7216782669734467\n",
            "2023-12-12 16:57:21.321529 Epoch 50, Training Loss 0.6763337035008403\n",
            "2023-12-12 16:59:40.968409 Epoch 60, Training Loss 0.6399481967282112\n",
            "2023-12-12 17:02:01.739195 Epoch 70, Training Loss 0.6075613332526458\n",
            "2023-12-12 17:04:23.435128 Epoch 80, Training Loss 0.582436959685572\n",
            "2023-12-12 17:06:48.310581 Epoch 90, Training Loss 0.5590829010052449\n",
            "2023-12-12 17:09:12.663388 Epoch 100, Training Loss 0.5403062923789939\n",
            "2023-12-12 17:11:40.634030 Epoch 110, Training Loss 0.5224109741732897\n",
            "2023-12-12 17:14:10.826032 Epoch 120, Training Loss 0.5073637597624908\n",
            "2023-12-12 17:16:42.902189 Epoch 130, Training Loss 0.4970909355546507\n",
            "2023-12-12 17:19:11.822722 Epoch 140, Training Loss 0.4838820037139041\n",
            "2023-12-12 17:21:38.136570 Epoch 150, Training Loss 0.47025398128782697\n",
            "2023-12-12 17:24:03.005464 Epoch 160, Training Loss 0.46361755844577196\n",
            "2023-12-12 17:26:29.526589 Epoch 170, Training Loss 0.4548896419460816\n",
            "2023-12-12 17:28:55.867390 Epoch 180, Training Loss 0.44588903425370946\n",
            "2023-12-12 17:31:20.945783 Epoch 190, Training Loss 0.4390037370764691\n",
            "2023-12-12 17:33:43.870809 Epoch 200, Training Loss 0.43125248587954684\n",
            "2023-12-12 17:36:08.815209 Epoch 210, Training Loss 0.42642338000371327\n",
            "2023-12-12 17:38:30.729957 Epoch 220, Training Loss 0.4214034477234497\n",
            "2023-12-12 17:40:54.787273 Epoch 230, Training Loss 0.4146425163235201\n",
            "2023-12-12 17:43:20.175818 Epoch 240, Training Loss 0.4087802232112116\n",
            "2023-12-12 17:45:44.001494 Epoch 250, Training Loss 0.40442943521549024\n",
            "2023-12-12 17:48:07.977087 Epoch 260, Training Loss 0.3972423292906083\n",
            "2023-12-12 17:50:30.813438 Epoch 270, Training Loss 0.39562343718374476\n",
            "2023-12-12 17:52:53.565172 Epoch 280, Training Loss 0.3931984725072408\n",
            "2023-12-12 17:55:19.071420 Epoch 290, Training Loss 0.38365009811985523\n",
            "2023-12-12 17:57:46.523384 Epoch 300, Training Loss 0.38502009870374904\n",
            "time: 1h 12min 16s (started: 2023-12-12 16:45:30 +00:00)\n"
          ]
        }
      ],
      "source": [
        "train_loader = torch.utils.data.DataLoader(transformed_cifar10_train, batch_size=64, shuffle=True)\n",
        "\n",
        "\n",
        "model = NetRes().to(device = device)\n",
        "optimizer = optim.SGD(model.parameters(), lr=1e-2)\n",
        "loss_fn = nn.CrossEntropyLoss()\n",
        "\n",
        "training_loop(\n",
        "    n_epochs = 300,\n",
        "    optimizer = optimizer,\n",
        "    model = model,\n",
        "    loss_fn = loss_fn,\n",
        "    train_loader = train_loader\n",
        ")"
      ]
    },
    {
      "cell_type": "code",
      "execution_count": null,
      "metadata": {
        "colab": {
          "base_uri": "https://localhost:8080/"
        },
        "id": "UdROQ9uFOkqU",
        "outputId": "e0356f50-6573-4eea-add8-20fe0796bd62"
      },
      "outputs": [
        {
          "output_type": "stream",
          "name": "stdout",
          "text": [
            "Accuracy train: 0.80\n",
            "Accuracy val: 0.80\n",
            "time: 26.8 s (started: 2023-12-12 17:59:24 +00:00)\n"
          ]
        }
      ],
      "source": [
        "train_loader = torch.utils.data.DataLoader(transformed_cifar10_train, batch_size=64,shuffle=False)\n",
        "\n",
        "test_loader = torch.utils.data.DataLoader(transformed_cifar10_test, batch_size=64, shuffle=False)\n",
        "\n",
        "correct = 0\n",
        "total = 0\n",
        "\n",
        "def validate(model, train_loader, test_loader):\n",
        "  for name, loader in [(\"train\", train_loader), (\"val\", test_loader)]:\n",
        "    correct = 0;\n",
        "    total = 0;\n",
        "\n",
        "    with torch.no_grad():\n",
        "        for imgs, labels in train_loader:\n",
        "            outputs = model(imgs.to(device = device))\n",
        "            _, predicted = torch.max(outputs, dim=1)\n",
        "            total += labels.shape[0]\n",
        "            correct += int((predicted == labels.to(device = device)).sum())\n",
        "\n",
        "    print(\"Accuracy {}: {:.2f}\".format(name, correct / total))\n",
        "\n",
        "validate(model, train_loader, test_loader)\n",
        "\n"
      ]
    },
    {
      "cell_type": "code",
      "execution_count": null,
      "metadata": {
        "colab": {
          "base_uri": "https://localhost:8080/"
        },
        "id": "OhXiOqGNDMsB",
        "outputId": "4e8efb39-a927-4d87-fa74-612ce82b08ad"
      },
      "outputs": [
        {
          "output_type": "stream",
          "name": "stdout",
          "text": [
            "16394\n",
            "time: 1.35 ms (started: 2023-12-12 17:59:56 +00:00)\n"
          ]
        }
      ],
      "source": [
        "print(sum([p.numel() for p in model.parameters()]))"
      ]
    },
    {
      "cell_type": "code",
      "source": [
        "#Weight Penalty\n",
        "def training_loop_Penalty(n_epochs, optimizer, model, loss_fn, train_loader):\n",
        "  for epoch in range(1, n_epochs + 1):\n",
        "    loss_train = 0.0\n",
        "\n",
        "    for imgs, labels in train_loader:\n",
        "      imgs = imgs.to(device = device)\n",
        "      labels = labels.to(device = device)\n",
        "      outputs = model(imgs)\n",
        "      loss = loss_fn(outputs, labels)\n",
        "\n",
        "      l2_lambda = 0.001\n",
        "      l2_norm = sum(p.pow(2.0).sum() for p in model.parameters())\n",
        "      loss = loss + l2_lambda * l2_norm\n",
        "\n",
        "      optimizer.zero_grad()\n",
        "      loss.backward()\n",
        "      optimizer.step()\n",
        "\n",
        "      loss_train += loss.item()\n",
        "    if epoch == 1 or epoch % 10 == 0:\n",
        "      print('{} Epoch {}, Training Loss {}'.format(datetime.datetime.now(), epoch, loss_train / len(train_loader)))"
      ],
      "metadata": {
        "colab": {
          "base_uri": "https://localhost:8080/"
        },
        "id": "rlrLBjS_O1SM",
        "outputId": "2e90d51a-73ac-4321-9e8a-e33400ab0c92"
      },
      "execution_count": null,
      "outputs": [
        {
          "output_type": "stream",
          "name": "stdout",
          "text": [
            "time: 944 µs (started: 2023-12-12 18:18:08 +00:00)\n"
          ]
        }
      ]
    },
    {
      "cell_type": "code",
      "source": [
        "train_loader = torch.utils.data.DataLoader(transformed_cifar10_train, batch_size=64, shuffle=True)\n",
        "\n",
        "model = NetRes().to(device = device)\n",
        "optimizer = optim.SGD(model.parameters(), lr=1e-2)\n",
        "loss_fn = nn.CrossEntropyLoss()\n",
        "\n",
        "training_loop_Penalty(\n",
        "    n_epochs = 300,\n",
        "    optimizer = optimizer,\n",
        "    model = model,\n",
        "    loss_fn = loss_fn,\n",
        "    train_loader = train_loader\n",
        ")"
      ],
      "metadata": {
        "colab": {
          "base_uri": "https://localhost:8080/"
        },
        "id": "3yE7h-ZMQC0Z",
        "outputId": "bbde5920-20e6-4b7b-ccd5-41b0b1229fde"
      },
      "execution_count": null,
      "outputs": [
        {
          "output_type": "stream",
          "name": "stdout",
          "text": [
            "2023-12-12 18:19:39.288801 Epoch 1, Training Loss 2.079636944072021\n",
            "2023-12-12 18:22:06.432310 Epoch 10, Training Loss 1.141007233687374\n",
            "2023-12-12 18:25:13.501480 Epoch 20, Training Loss 0.9597368613076027\n",
            "2023-12-12 18:28:14.693368 Epoch 30, Training Loss 0.8832571490493881\n",
            "2023-12-12 18:31:28.331379 Epoch 40, Training Loss 0.8368857480071085\n",
            "2023-12-12 18:34:12.207857 Epoch 50, Training Loss 0.8078877842029952\n",
            "2023-12-12 18:36:45.294893 Epoch 60, Training Loss 0.7835917001413872\n",
            "2023-12-12 18:39:21.794145 Epoch 70, Training Loss 0.770222819445993\n",
            "2023-12-12 18:41:59.559727 Epoch 80, Training Loss 0.7548919689015049\n",
            "2023-12-12 18:44:34.549905 Epoch 90, Training Loss 0.7466213576629034\n",
            "2023-12-12 18:47:06.912732 Epoch 100, Training Loss 0.7385625243186951\n",
            "2023-12-12 18:49:39.689837 Epoch 110, Training Loss 0.7320131550130942\n",
            "2023-12-12 18:52:12.671748 Epoch 120, Training Loss 0.7266498678709234\n",
            "2023-12-12 18:54:45.622938 Epoch 130, Training Loss 0.7232765333579324\n",
            "2023-12-12 18:57:17.640523 Epoch 140, Training Loss 0.7174970734378566\n",
            "2023-12-12 18:59:50.594001 Epoch 150, Training Loss 0.7124804648215813\n",
            "2023-12-12 19:02:22.320811 Epoch 160, Training Loss 0.7098295171852307\n",
            "2023-12-12 19:04:58.413729 Epoch 170, Training Loss 0.7076915808574623\n",
            "2023-12-12 19:07:33.391819 Epoch 180, Training Loss 0.7052324423018623\n",
            "2023-12-12 19:10:06.675899 Epoch 190, Training Loss 0.7012698162166054\n",
            "2023-12-12 19:12:38.962567 Epoch 200, Training Loss 0.6991680217216082\n",
            "2023-12-12 19:15:12.896610 Epoch 210, Training Loss 0.6989238611648759\n",
            "2023-12-12 19:17:46.160622 Epoch 220, Training Loss 0.6946611913954815\n",
            "2023-12-12 19:20:19.480833 Epoch 230, Training Loss 0.6940310593989804\n",
            "2023-12-12 19:22:52.246779 Epoch 240, Training Loss 0.6933159402493015\n",
            "2023-12-12 19:25:25.097805 Epoch 250, Training Loss 0.6899340746500303\n",
            "2023-12-12 19:28:04.240301 Epoch 260, Training Loss 0.6899704657247304\n",
            "2023-12-12 19:30:42.091454 Epoch 270, Training Loss 0.6908355166235238\n",
            "2023-12-12 19:33:20.060841 Epoch 280, Training Loss 0.6900783811155182\n",
            "2023-12-12 19:35:58.961844 Epoch 290, Training Loss 0.6850761261285113\n",
            "2023-12-12 19:38:35.550430 Epoch 300, Training Loss 0.6850669100842512\n",
            "time: 1h 19min 11s (started: 2023-12-12 18:19:23 +00:00)\n"
          ]
        }
      ]
    },
    {
      "cell_type": "code",
      "source": [
        "train_loader = torch.utils.data.DataLoader(transformed_cifar10_train, batch_size=64,shuffle=False)\n",
        "\n",
        "test_loader = torch.utils.data.DataLoader(transformed_cifar10_test, batch_size=64, shuffle=False)\n",
        "\n",
        "correct = 0\n",
        "total = 0\n",
        "\n",
        "def validate(model, train_loader, test_loader):\n",
        "  for name, loader in [(\"train\", train_loader), (\"val\", test_loader)]:\n",
        "    correct = 0;\n",
        "    total = 0;\n",
        "\n",
        "    with torch.no_grad():\n",
        "        for imgs, labels in train_loader:\n",
        "            outputs = model(imgs.to(device = device))\n",
        "            _, predicted = torch.max(outputs, dim=1)\n",
        "            total += labels.shape[0]\n",
        "            correct += int((predicted == labels.to(device = device)).sum())\n",
        "\n",
        "    print(\"Accuracy {}: {:.2f}\".format(name, correct / total))\n",
        "\n",
        "validate(model, train_loader, test_loader)"
      ],
      "metadata": {
        "colab": {
          "base_uri": "https://localhost:8080/"
        },
        "id": "p3T9VtFtQO22",
        "outputId": "ba4f81c7-db29-419d-d9e5-c3760fa06cae"
      },
      "execution_count": null,
      "outputs": [
        {
          "output_type": "stream",
          "name": "stdout",
          "text": [
            "Accuracy train: 0.78\n",
            "Accuracy val: 0.78\n",
            "time: 26.3 s (started: 2023-12-12 19:44:58 +00:00)\n"
          ]
        }
      ]
    },
    {
      "cell_type": "code",
      "source": [
        "#Dropout\n",
        "\n",
        "import torch.nn.functional as F\n",
        "\n",
        "class NetResDropout(nn.Module):\n",
        "  def __init__(self, n_chans1 = 32):\n",
        "    super().__init__()\n",
        "    self.n_chans1 = n_chans1\n",
        "    self.conv1 = nn.Conv2d(3, n_chans1, kernel_size = 3, padding = 1)\n",
        "    self.conv1_dropout = nn.Dropout2d(p = 0.3)\n",
        "    self.conv2 = nn.Conv2d(n_chans1, n_chans1 // 2, kernel_size = 3, padding = 1)\n",
        "    self.conv2_dropout = nn.Dropout2d(p = 0.3)\n",
        "    self.conv3 = nn.Conv2d(n_chans1 // 2, n_chans1 // 2 , kernel_size = 3, padding = 1)\n",
        "    self.conv3_dropout = nn.Dropout2d(p = 0.3)\n",
        "\n",
        "    self.fc1 = nn.Linear(4 * 4 * n_chans1 // 2, 32)\n",
        "    self.fc2 = nn.Linear(32, 10)\n",
        "\n",
        "  def forward(self, x):\n",
        "    out = F.max_pool2d(torch.relu(self.conv1(x)), 2)\n",
        "    out = self.conv1_dropout(out)\n",
        "    out = F.max_pool2d(torch.relu(self.conv2(out)), 2)\n",
        "    out = self.conv2_dropout(out)\n",
        "    out1 = out\n",
        "    out = F.max_pool2d(torch.relu(self.conv3(out)) + out1, 2)\n",
        "    out = self.conv3_dropout(out)\n",
        "    out = out.view(-1,4 * 4 * self.n_chans1 // 2)\n",
        "    out = torch.relu(self.fc1(out))\n",
        "    out = self.fc2(out)\n",
        "    return out"
      ],
      "metadata": {
        "colab": {
          "base_uri": "https://localhost:8080/"
        },
        "id": "sKZjTv-KQ0FJ",
        "outputId": "9f4a63d2-2602-4a50-9b17-59e5e16804ff"
      },
      "execution_count": null,
      "outputs": [
        {
          "output_type": "stream",
          "name": "stdout",
          "text": [
            "time: 1.52 ms (started: 2023-12-12 19:45:29 +00:00)\n"
          ]
        }
      ]
    },
    {
      "cell_type": "code",
      "source": [
        "train_loader = torch.utils.data.DataLoader(transformed_cifar10_train, batch_size=64, shuffle=True)\n",
        "\n",
        "model = NetResDropout().to(device = device)\n",
        "optimizer = optim.SGD(model.parameters(), lr=1e-2)\n",
        "loss_fn = nn.CrossEntropyLoss()\n",
        "\n",
        "training_loop(\n",
        "    n_epochs = 300,\n",
        "    optimizer = optimizer,\n",
        "    model = model,\n",
        "    loss_fn = loss_fn,\n",
        "    train_loader = train_loader\n",
        ")"
      ],
      "metadata": {
        "colab": {
          "base_uri": "https://localhost:8080/"
        },
        "id": "wN7EsPUUR2FJ",
        "outputId": "46ff92db-af4e-4b1f-e06e-9a78d21073b7"
      },
      "execution_count": null,
      "outputs": [
        {
          "output_type": "stream",
          "name": "stdout",
          "text": [
            "2023-12-12 19:45:49.786381 Epoch 1, Training Loss 2.1709300590598066\n",
            "2023-12-12 19:47:59.958961 Epoch 10, Training Loss 1.5377342080521157\n",
            "2023-12-12 19:50:24.630635 Epoch 20, Training Loss 1.3849807392300852\n",
            "2023-12-12 19:52:50.812473 Epoch 30, Training Loss 1.3089103095061945\n",
            "2023-12-12 19:55:18.345856 Epoch 40, Training Loss 1.2634275283502496\n",
            "2023-12-12 19:57:45.304191 Epoch 50, Training Loss 1.2203206358205936\n",
            "2023-12-12 20:00:10.256498 Epoch 60, Training Loss 1.194816271438623\n",
            "2023-12-12 20:02:34.755985 Epoch 70, Training Loss 1.1739732182544211\n",
            "2023-12-12 20:05:01.407047 Epoch 80, Training Loss 1.156304489316233\n",
            "2023-12-12 20:07:26.417006 Epoch 90, Training Loss 1.1400852126386158\n",
            "2023-12-12 20:09:50.873520 Epoch 100, Training Loss 1.1330001802395677\n",
            "2023-12-12 20:12:15.737521 Epoch 110, Training Loss 1.1235584000797223\n",
            "2023-12-12 20:14:40.116023 Epoch 120, Training Loss 1.1183789429609732\n",
            "2023-12-12 20:17:02.856008 Epoch 130, Training Loss 1.1064532290181845\n",
            "2023-12-12 20:19:26.555837 Epoch 140, Training Loss 1.1008700431155427\n",
            "2023-12-12 20:21:50.110604 Epoch 150, Training Loss 1.0976473400202553\n",
            "2023-12-12 20:24:12.975998 Epoch 160, Training Loss 1.09417466784987\n",
            "2023-12-12 20:26:36.750778 Epoch 170, Training Loss 1.0890244378915528\n",
            "2023-12-12 20:28:58.495776 Epoch 180, Training Loss 1.082693571782173\n",
            "2023-12-12 20:31:22.182960 Epoch 190, Training Loss 1.0839908669519303\n",
            "2023-12-12 20:33:45.630291 Epoch 200, Training Loss 1.0807400871725643\n",
            "2023-12-12 20:36:07.703070 Epoch 210, Training Loss 1.0768630174572205\n",
            "2023-12-12 20:38:31.306841 Epoch 220, Training Loss 1.0768314609899545\n",
            "2023-12-12 20:40:54.523714 Epoch 230, Training Loss 1.0743132030872433\n",
            "2023-12-12 20:43:18.788958 Epoch 240, Training Loss 1.0680331233364846\n",
            "2023-12-12 20:45:42.964898 Epoch 250, Training Loss 1.0669230231848519\n",
            "2023-12-12 20:48:06.687972 Epoch 260, Training Loss 1.0622754702177803\n",
            "2023-12-12 20:50:32.115331 Epoch 270, Training Loss 1.0593603065099253\n",
            "2023-12-12 20:52:57.143779 Epoch 280, Training Loss 1.0623614413049214\n",
            "2023-12-12 20:55:23.459968 Epoch 290, Training Loss 1.0579689268565848\n",
            "2023-12-12 20:57:50.265407 Epoch 300, Training Loss 1.0552657768701958\n",
            "time: 1h 12min 15s (started: 2023-12-12 19:45:34 +00:00)\n"
          ]
        }
      ]
    },
    {
      "cell_type": "code",
      "source": [
        "train_loader = torch.utils.data.DataLoader(transformed_cifar10_train, batch_size=64,shuffle=False)\n",
        "\n",
        "test_loader = torch.utils.data.DataLoader(transformed_cifar10_test, batch_size=64, shuffle=False)\n",
        "\n",
        "correct = 0\n",
        "total = 0\n",
        "\n",
        "def validate(model, train_loader, test_loader):\n",
        "  for name, loader in [(\"train\", train_loader), (\"val\", test_loader)]:\n",
        "    correct = 0;\n",
        "    total = 0;\n",
        "\n",
        "    with torch.no_grad():\n",
        "        for imgs, labels in train_loader:\n",
        "            outputs = model(imgs.to(device = device))\n",
        "            _, predicted = torch.max(outputs, dim=1)\n",
        "            total += labels.shape[0]\n",
        "            correct += int((predicted == labels.to(device = device)).sum())\n",
        "\n",
        "    print(\"Accuracy {}: {:.2f}\".format(name, correct / total))\n",
        "\n",
        "validate(model, train_loader, test_loader)"
      ],
      "metadata": {
        "colab": {
          "base_uri": "https://localhost:8080/"
        },
        "id": "meiGcVO8TVzJ",
        "outputId": "91cbac2e-81d5-4133-e300-80efe02ecd0d"
      },
      "execution_count": null,
      "outputs": [
        {
          "output_type": "stream",
          "name": "stdout",
          "text": [
            "Accuracy train: 0.62\n",
            "Accuracy val: 0.62\n",
            "time: 27 s (started: 2023-12-12 20:57:50 +00:00)\n"
          ]
        }
      ]
    },
    {
      "cell_type": "code",
      "source": [
        "#Batch Normalization\n",
        "\n",
        "import torch.nn.functional as F\n",
        "\n",
        "class NetResBatch(nn.Module):\n",
        "  def __init__(self, n_chans1 = 32):\n",
        "    super().__init__()\n",
        "    self.n_chans1 = n_chans1\n",
        "    self.conv1 = nn.Conv2d(3, n_chans1, kernel_size = 3, padding = 1)\n",
        "    self.conv1_batchnorm = nn.BatchNorm2d(num_features=n_chans1)\n",
        "    self.conv2 = nn.Conv2d(n_chans1, n_chans1 // 2, kernel_size = 3, padding = 1)\n",
        "    self.conv2_batchnorm = nn.BatchNorm2d(num_features=n_chans1 // 2)\n",
        "    self.conv3 = nn.Conv2d(n_chans1 // 2, n_chans1 // 2 , kernel_size = 3, padding = 1)\n",
        "    self.conv3_batchnorm = nn.BatchNorm2d(num_features=n_chans1 // 2)\n",
        "\n",
        "    self.fc1 = nn.Linear(4 * 4 * n_chans1 // 2, 32)\n",
        "    self.fc2 = nn.Linear(32, 10)\n",
        "\n",
        "  def forward(self, x):\n",
        "    out = self.conv1_batchnorm(self.conv1(x))\n",
        "    out = F.max_pool2d(torch.relu(out), 2)\n",
        "    out = self.conv2_batchnorm(self.conv2(out))\n",
        "    out = F.max_pool2d(torch.relu(out), 2)\n",
        "    out1 = out\n",
        "    out = self.conv3_batchnorm(self.conv3(out))\n",
        "    out = F.max_pool2d(torch.relu(out) + out1, 2)\n",
        "    out = out.view(-1,4 * 4 * self.n_chans1 // 2)\n",
        "    out = torch.relu(self.fc1(out))\n",
        "    out = self.fc2(out)\n",
        "    return out"
      ],
      "metadata": {
        "colab": {
          "base_uri": "https://localhost:8080/"
        },
        "id": "W1DKFE8YSGyy",
        "outputId": "132e302c-5964-4605-e83a-d95a15fc1785"
      },
      "execution_count": null,
      "outputs": [
        {
          "output_type": "stream",
          "name": "stdout",
          "text": [
            "time: 1 ms (started: 2023-12-12 20:59:08 +00:00)\n"
          ]
        }
      ]
    },
    {
      "cell_type": "code",
      "source": [
        "train_loader = torch.utils.data.DataLoader(transformed_cifar10_train, batch_size=64, shuffle=True)\n",
        "\n",
        "model = NetResBatch().to(device = device)\n",
        "optimizer = optim.SGD(model.parameters(), lr=1e-2)\n",
        "loss_fn = nn.CrossEntropyLoss()\n",
        "\n",
        "training_loop(\n",
        "    n_epochs = 300,\n",
        "    optimizer = optimizer,\n",
        "    model = model,\n",
        "    loss_fn = loss_fn,\n",
        "    train_loader = train_loader\n",
        ")"
      ],
      "metadata": {
        "colab": {
          "base_uri": "https://localhost:8080/"
        },
        "id": "YF_8bxDxTOcS",
        "outputId": "dba2d577-791c-4bc7-8489-bb5e6d36ef06"
      },
      "execution_count": null,
      "outputs": [
        {
          "output_type": "stream",
          "name": "stdout",
          "text": [
            "2023-12-12 20:59:26.543926 Epoch 1, Training Loss 1.6811983737799212\n",
            "2023-12-12 21:01:38.175557 Epoch 10, Training Loss 0.84543696682319\n",
            "2023-12-12 21:04:05.767290 Epoch 20, Training Loss 0.7189818255203154\n",
            "2023-12-12 21:06:34.298561 Epoch 30, Training Loss 0.6501145303401801\n",
            "2023-12-12 21:09:03.320012 Epoch 40, Training Loss 0.6044039558571623\n",
            "2023-12-12 21:11:30.142575 Epoch 50, Training Loss 0.5742855096031028\n",
            "2023-12-12 21:13:56.786078 Epoch 60, Training Loss 0.5473146042822267\n",
            "2023-12-12 21:16:26.090643 Epoch 70, Training Loss 0.5239182106979058\n",
            "2023-12-12 21:18:55.366756 Epoch 80, Training Loss 0.5054937777540568\n",
            "2023-12-12 21:21:24.847446 Epoch 90, Training Loss 0.4888476507018899\n",
            "2023-12-12 21:23:55.048381 Epoch 100, Training Loss 0.47364235402601756\n",
            "2023-12-12 21:26:24.194084 Epoch 110, Training Loss 0.4640625804815146\n",
            "2023-12-12 21:28:55.392097 Epoch 120, Training Loss 0.4533690401088551\n",
            "2023-12-12 21:31:25.204777 Epoch 130, Training Loss 0.4420404141135228\n",
            "2023-12-12 21:33:54.065554 Epoch 140, Training Loss 0.4311157794635924\n",
            "2023-12-12 21:36:22.296730 Epoch 150, Training Loss 0.4253715204117853\n",
            "2023-12-12 21:38:48.975545 Epoch 160, Training Loss 0.41901456263592785\n",
            "2023-12-12 21:41:17.693590 Epoch 170, Training Loss 0.4133883996883317\n",
            "2023-12-12 21:43:47.110595 Epoch 180, Training Loss 0.40280862916689697\n",
            "2023-12-12 21:46:15.181318 Epoch 190, Training Loss 0.39880101859112227\n"
          ]
        }
      ]
    },
    {
      "cell_type": "code",
      "source": [
        "train_loader = torch.utils.data.DataLoader(transformed_cifar10_train, batch_size=64,shuffle=False)\n",
        "\n",
        "test_loader = torch.utils.data.DataLoader(transformed_cifar10_test, batch_size=64, shuffle=False)\n",
        "\n",
        "correct = 0\n",
        "total = 0\n",
        "\n",
        "def validate(model, train_loader, test_loader):\n",
        "  for name, loader in [(\"train\", train_loader), (\"val\", test_loader)]:\n",
        "    correct = 0;\n",
        "    total = 0;\n",
        "\n",
        "    with torch.no_grad():\n",
        "        for imgs, labels in train_loader:\n",
        "            outputs = model(imgs.to(device = device))\n",
        "            _, predicted = torch.max(outputs, dim=1)\n",
        "            total += labels.shape[0]\n",
        "            correct += int((predicted == labels.to(device = device)).sum())\n",
        "\n",
        "    print(\"Accuracy {}: {:.2f}\".format(name, correct / total))\n",
        "\n",
        "validate(model, train_loader, test_loader)"
      ],
      "metadata": {
        "id": "yCQoUuGTTWqb"
      },
      "execution_count": null,
      "outputs": []
    }
  ],
  "metadata": {
    "accelerator": "GPU",
    "colab": {
      "provenance": [],
      "gpuType": "T4",
      "authorship_tag": "ABX9TyOsQ+hZO5XWmfEVYJiWlTTr",
      "include_colab_link": true
    },
    "kernelspec": {
      "display_name": "Python 3",
      "name": "python3"
    },
    "language_info": {
      "name": "python"
    }
  },
  "nbformat": 4,
  "nbformat_minor": 0
}